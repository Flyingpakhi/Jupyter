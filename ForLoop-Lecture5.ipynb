{
 "cells": [
  {
   "cell_type": "code",
   "execution_count": 2,
   "id": "cc4338ea",
   "metadata": {},
   "outputs": [
    {
     "name": "stdout",
     "output_type": "stream",
     "text": [
      "4\n",
      "1 2 3 4 "
     ]
    }
   ],
   "source": [
    "#print natural numbers \n",
    "n=int(input())\n",
    "for i in range(1,n+1):\n",
    "    print(i,end=' ')"
   ]
  },
  {
   "cell_type": "code",
   "execution_count": 3,
   "id": "fff2ba1d",
   "metadata": {},
   "outputs": [
    {
     "name": "stdout",
     "output_type": "stream",
     "text": [
      "4\n",
      "10\n",
      "6\n",
      "9\n"
     ]
    }
   ],
   "source": [
    "#print multiples of 3\n",
    "a=int(input())\n",
    "b=int(input())\n",
    "for i in range(a,b+1,1):\n",
    "    if(i%3==0):\n",
    "        print(i)"
   ]
  },
  {
   "cell_type": "code",
   "execution_count": 5,
   "id": "b41a1436",
   "metadata": {},
   "outputs": [
    {
     "name": "stdout",
     "output_type": "stream",
     "text": [
      "5\n",
      "15\n",
      "6\n",
      "9\n",
      "12\n",
      "15\n"
     ]
    }
   ],
   "source": [
    "#print multiples of 3\n",
    "a=int(input())\n",
    "b=int(input())\n",
    "if a%3==0:\n",
    "    s=a\n",
    "elif a%3==1:\n",
    "    s=a+2\n",
    "else:\n",
    "    s=a+1\n",
    "for i in range(s,b+1,3):\n",
    "    print(i)"
   ]
  },
  {
   "cell_type": "code",
   "execution_count": 7,
   "id": "c99375d9",
   "metadata": {},
   "outputs": [
    {
     "name": "stdout",
     "output_type": "stream",
     "text": [
      "4\n",
      "5\n",
      "11\n",
      "14\n",
      "17\n"
     ]
    }
   ],
   "source": [
    "#print first x Terms of series 3N+2 which are not multiples of 4\n",
    "r=int(input())\n",
    "cnt=0\n",
    "for i in range(1,1001):\n",
    "    val=3*i+2\n",
    "    if(val%4!=0):\n",
    "        print(val)\n",
    "        cnt=cnt+1\n",
    "    if(cnt==r):\n",
    "        break\n",
    "    "
   ]
  },
  {
   "cell_type": "code",
   "execution_count": 11,
   "id": "415dc710",
   "metadata": {},
   "outputs": [
    {
     "name": "stdout",
     "output_type": "stream",
     "text": [
      "10\n",
      "2\n",
      "Do production\n",
      "the production of 1 to n:  3628800\n"
     ]
    }
   ],
   "source": [
    "#sum or product \n",
    "num=int(input())\n",
    "c=int(input())\n",
    "match c:\n",
    "    case 1:\n",
    "        print(\"Do sum\")\n",
    "        ans=(num*(num+1))/2\n",
    "        print(\"the sum of 1 to n: \",ans)\n",
    "    case 2:\n",
    "        print(\"Do production\")\n",
    "        ans=1\n",
    "        for i in range(1,num+1):\n",
    "            ans=ans*i;\n",
    "        print(\"the production of 1 to n: \",ans)\n",
    "    case _:\n",
    "        print(\"wrong apply\")"
   ]
  },
  {
   "cell_type": "code",
   "execution_count": 12,
   "id": "3abc4721",
   "metadata": {},
   "outputs": [
    {
     "name": "stdout",
     "output_type": "stream",
     "text": [
      "hi\n"
     ]
    }
   ],
   "source": [
    "i=3\n",
    "if i<7:\n",
    "    pass\n",
    "print(\"hi\")"
   ]
  },
  {
   "cell_type": "code",
   "execution_count": null,
   "id": "e87e19c5",
   "metadata": {},
   "outputs": [],
   "source": [
    "i=1\n",
    "while(i<=3):\n",
    "    pass\n",
    "    i=i+1\n",
    "print"
   ]
  }
 ],
 "metadata": {
  "kernelspec": {
   "display_name": "Python 3 (ipykernel)",
   "language": "python",
   "name": "python3"
  },
  "language_info": {
   "codemirror_mode": {
    "name": "ipython",
    "version": 3
   },
   "file_extension": ".py",
   "mimetype": "text/x-python",
   "name": "python",
   "nbconvert_exporter": "python",
   "pygments_lexer": "ipython3",
   "version": "3.11.5"
  }
 },
 "nbformat": 4,
 "nbformat_minor": 5
}
