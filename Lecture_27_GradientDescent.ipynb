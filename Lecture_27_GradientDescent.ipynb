{
 "cells": [
  {
   "cell_type": "markdown",
   "id": "d2c81ae9",
   "metadata": {},
   "source": [
    "this code is only for one feature"
   ]
  },
  {
   "cell_type": "code",
   "execution_count": 1,
   "id": "95facd0d",
   "metadata": {},
   "outputs": [],
   "source": [
    " import numpy as np"
   ]
  },
  {
   "cell_type": "code",
   "execution_count": 2,
   "id": "44f5f930",
   "metadata": {},
   "outputs": [
    {
     "data": {
      "text/plain": [
       "(100, 2)"
      ]
     },
     "execution_count": 2,
     "metadata": {},
     "output_type": "execute_result"
    }
   ],
   "source": [
    "data=np.loadtxt(\"data.csv\",delimiter=\",\")\n",
    "data.shape\n",
    "# in our data we have one feature and one target column."
   ]
  },
  {
   "cell_type": "code",
   "execution_count": 3,
   "id": "289613ad",
   "metadata": {},
   "outputs": [],
   "source": [
    "def step_gradient(points,learning_rate,m,c):\n",
    "    m_slope=0\n",
    "    c_slope=0\n",
    "    n=len(points)\n",
    "    for i in range(n):\n",
    "        x=points[i,0]\n",
    "        y=points[i,1]\n",
    "        m_slope+=(-2/n)*(y-m*x-c)*x\n",
    "        c_slope+=(-2/n)*(y-m*x-c)\n",
    "    new_m=m-learning_rate*m_slope\n",
    "    new_c=c-learning_rate*c_slope\n",
    "    return new_m,new_c"
   ]
  },
  {
   "cell_type": "code",
   "execution_count": 4,
   "id": "60852c56",
   "metadata": {},
   "outputs": [],
   "source": [
    "def gd(points,learning_rate,num_iterations):\n",
    "#     at first we take m=0,c=0\n",
    "    m=0\n",
    "    c=0\n",
    "    for i in range(num_iterations):\n",
    "#         step gradient will take one step and get m and c \n",
    "        m,c=step_gradient(points,learning_rate,m,c)\n",
    "        print(i,\" cost: \",cost(points,m,c))\n",
    "    return m,c"
   ]
  },
  {
   "cell_type": "code",
   "execution_count": 6,
   "id": "4b2900e3",
   "metadata": {},
   "outputs": [],
   "source": [
    "def cost(points,m,c):\n",
    "    total_cost=0\n",
    "    n=len(points)\n",
    "    for i in range(n):\n",
    "        x=points[i,0]\n",
    "        y=points[i,1]\n",
    "        total_cost+=(1/n)*((y-m*x-c)**2)\n",
    "    return total_cost\n",
    "        "
   ]
  },
  {
   "cell_type": "code",
   "execution_count": 16,
   "id": "1e908724",
   "metadata": {},
   "outputs": [],
   "source": [
    "def run():\n",
    "    data=np.loadtxt(\"data.csv\",delimiter=\",\")\n",
    "    learning_rate=0.0001\n",
    "    num_iterations=100\n",
    "    m,c=gd(data,learning_rate,num_iterations)\n",
    "    print(m,c)"
   ]
  },
  {
   "cell_type": "code",
   "execution_count": 17,
   "id": "11721e6c",
   "metadata": {},
   "outputs": [
    {
     "name": "stdout",
     "output_type": "stream",
     "text": [
      "0  cost:  1484.5865573886724\n",
      "1  cost:  457.8542575549246\n",
      "2  cost:  199.5099857089966\n",
      "3  cost:  134.50591056654892\n",
      "4  cost:  118.14969340734379\n",
      "5  cost:  114.03414904545866\n",
      "6  cost:  112.99857730225536\n",
      "7  cost:  112.73798186081584\n",
      "8  cost:  112.67238434422573\n",
      "9  cost:  112.65585180013326\n",
      "10  cost:  112.65166488273188\n",
      "11  cost:  112.65058434663722\n",
      "12  cost:  112.65028543215112\n",
      "13  cost:  112.65018318807574\n",
      "14  cost:  112.65013043020797\n",
      "15  cost:  112.65009012436487\n",
      "16  cost:  112.6500529520823\n",
      "17  cost:  112.65001656866782\n",
      "18  cost:  112.64998038415452\n",
      "19  cost:  112.64994425009652\n",
      "20  cost:  112.64990812914199\n",
      "21  cost:  112.6498720118925\n",
      "22  cost:  112.64983589598332\n",
      "23  cost:  112.64979978081936\n",
      "24  cost:  112.64976366625086\n",
      "25  cost:  112.64972755224025\n",
      "26  cost:  112.64969143877795\n",
      "27  cost:  112.64965532586166\n",
      "28  cost:  112.6496192134906\n",
      "29  cost:  112.64958310166489\n",
      "30  cost:  112.64954699038421\n",
      "31  cost:  112.64951087964859\n",
      "32  cost:  112.64947476945814\n",
      "33  cost:  112.64943865981279\n",
      "34  cost:  112.64940255071251\n",
      "35  cost:  112.64936644215737\n",
      "36  cost:  112.64933033414725\n",
      "37  cost:  112.64929422668222\n",
      "38  cost:  112.6492581197622\n",
      "39  cost:  112.64922201338734\n",
      "40  cost:  112.64918590755741\n",
      "41  cost:  112.64914980227255\n",
      "42  cost:  112.64911369753271\n",
      "43  cost:  112.64907759333795\n",
      "44  cost:  112.64904148968819\n",
      "45  cost:  112.64900538658331\n",
      "46  cost:  112.64896928402356\n",
      "47  cost:  112.64893318200869\n",
      "48  cost:  112.64889708053883\n",
      "49  cost:  112.648860979614\n",
      "50  cost:  112.64882487923404\n",
      "51  cost:  112.64878877939901\n",
      "52  cost:  112.648752680109\n",
      "53  cost:  112.64871658136394\n",
      "54  cost:  112.64868048316374\n",
      "55  cost:  112.6486443855085\n",
      "56  cost:  112.64860828839814\n",
      "57  cost:  112.64857219183268\n",
      "58  cost:  112.64853609581218\n",
      "59  cost:  112.64850000033645\n",
      "60  cost:  112.64846390540572\n",
      "61  cost:  112.64842781101983\n",
      "62  cost:  112.64839171717874\n",
      "63  cost:  112.6483556238825\n",
      "64  cost:  112.64831953113112\n",
      "65  cost:  112.64828343892464\n",
      "66  cost:  112.64824734726284\n",
      "67  cost:  112.64821125614601\n",
      "68  cost:  112.64817516557393\n",
      "69  cost:  112.64813907554668\n",
      "70  cost:  112.64810298606423\n",
      "71  cost:  112.64806689712648\n",
      "72  cost:  112.64803080873362\n",
      "73  cost:  112.64799472088542\n",
      "74  cost:  112.6479586335821\n",
      "75  cost:  112.64792254682354\n",
      "76  cost:  112.6478864606096\n",
      "77  cost:  112.64785037494043\n",
      "78  cost:  112.64781428981605\n",
      "79  cost:  112.64777820523639\n",
      "80  cost:  112.64774212120133\n",
      "81  cost:  112.64770603771109\n",
      "82  cost:  112.64766995476546\n",
      "83  cost:  112.64763387236454\n",
      "84  cost:  112.64759779050837\n",
      "85  cost:  112.64756170919685\n",
      "86  cost:  112.64752562842995\n",
      "87  cost:  112.64748954820779\n",
      "88  cost:  112.64745346853016\n",
      "89  cost:  112.64741738939716\n",
      "90  cost:  112.64738131080887\n",
      "91  cost:  112.64734523276515\n",
      "92  cost:  112.64730915526607\n",
      "93  cost:  112.64727307831163\n",
      "94  cost:  112.64723700190179\n",
      "95  cost:  112.64720092603643\n",
      "96  cost:  112.64716485071577\n",
      "97  cost:  112.6471287759397\n",
      "98  cost:  112.64709270170808\n",
      "99  cost:  112.64705662802106\n",
      "1.4788027175308887 0.03507497059521464\n"
     ]
    }
   ],
   "source": [
    "run()\n",
    "# if learning_rate=0.001 we see it is getting overflowed"
   ]
  }
 ],
 "metadata": {
  "kernelspec": {
   "display_name": "Python 3 (ipykernel)",
   "language": "python",
   "name": "python3"
  },
  "language_info": {
   "codemirror_mode": {
    "name": "ipython",
    "version": 3
   },
   "file_extension": ".py",
   "mimetype": "text/x-python",
   "name": "python",
   "nbconvert_exporter": "python",
   "pygments_lexer": "ipython3",
   "version": "3.11.5"
  }
 },
 "nbformat": 4,
 "nbformat_minor": 5
}
