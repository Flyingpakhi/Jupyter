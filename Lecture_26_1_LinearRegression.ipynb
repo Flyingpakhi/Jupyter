{
 "cells": [
  {
   "cell_type": "code",
   "execution_count": 1,
   "id": "a0dc3fd0",
   "metadata": {},
   "outputs": [],
   "source": [
    "import numpy as np"
   ]
  },
  {
   "cell_type": "code",
   "execution_count": 2,
   "id": "ad5777db",
   "metadata": {},
   "outputs": [],
   "source": [
    "data=np.loadtxt(\"data.csv\",delimiter=\",\")"
   ]
  },
  {
   "cell_type": "code",
   "execution_count": 3,
   "id": "81760ca5",
   "metadata": {},
   "outputs": [],
   "source": [
    "# get all the rows of 0th col.it is a 1d array.\n",
    "x=data[:,0]\n",
    "# get all the rows of 1st col.it is a 1d array.\n",
    "y=data[:,1]"
   ]
  },
  {
   "cell_type": "code",
   "execution_count": 4,
   "id": "93370515",
   "metadata": {},
   "outputs": [
    {
     "data": {
      "text/plain": [
       "(100,)"
      ]
     },
     "execution_count": 4,
     "metadata": {},
     "output_type": "execute_result"
    }
   ],
   "source": [
    "x.shape"
   ]
  },
  {
   "cell_type": "code",
   "execution_count": 5,
   "id": "5be2e176",
   "metadata": {},
   "outputs": [
    {
     "data": {
      "text/plain": [
       "(70,)"
      ]
     },
     "execution_count": 5,
     "metadata": {},
     "output_type": "execute_result"
    }
   ],
   "source": [
    "from sklearn import model_selection\n",
    "X_train,X_test,Y_train,Y_test=model_selection.train_test_split(x,y,test_size=0.3)\n",
    "# it will give 30% to test value\n",
    "X_train.shape"
   ]
  },
  {
   "cell_type": "code",
   "execution_count": 6,
   "id": "ccc7b64b",
   "metadata": {},
   "outputs": [],
   "source": [
    "# write code for fit function\n",
    "# find m and c value\n",
    "# (x_train*y_train)->element wise multiply automatically\n",
    "# x_train=[1,2,3], y_train=[2,4,5] ->\n",
    "# x_train*y_train=[1*2,2*4,3*5]=[2,8,15]\n",
    "def fit(X_train,Y_train):\n",
    "    num=(X_train*Y_train).mean()-X_train.mean()*Y_train.mean()\n",
    "    den=(X_train*X_train).mean()-X_train.mean()*X_train.mean()\n",
    "    m=num/den\n",
    "    c=Y_train.mean()-m*X_train.mean()\n",
    "    return m,c\n",
    "# m,c=fit(X_train,Y_train)\n",
    "# print(m,c)"
   ]
  },
  {
   "cell_type": "code",
   "execution_count": 7,
   "id": "6e56eb13",
   "metadata": {},
   "outputs": [],
   "source": [
    "# predict y=mx+c\n",
    "def predict(x,m,c):\n",
    "    y_pred=x*m+c\n",
    "    return y_pred"
   ]
  },
  {
   "cell_type": "code",
   "execution_count": 8,
   "id": "89b4261c",
   "metadata": {},
   "outputs": [],
   "source": [
    "# predict score 1-u/v\n",
    "def score(y_truth,y_pred):\n",
    "    u=((y_truth-y_pred)**2).sum()\n",
    "    v=((y_truth-y_truth.mean())**2).sum()\n",
    "    return 1- u/v"
   ]
  },
  {
   "cell_type": "code",
   "execution_count": 14,
   "id": "9fff55aa",
   "metadata": {},
   "outputs": [],
   "source": [
    "# calculate cost=>summation((y-(mx+c))^2)\n",
    "def cost(x,y,m,c):\n",
    "    ans=((y-m*x-c)**2).mean()\n",
    "    return ans"
   ]
  },
  {
   "cell_type": "code",
   "execution_count": 15,
   "id": "d33c5898",
   "metadata": {},
   "outputs": [
    {
     "name": "stdout",
     "output_type": "stream",
     "text": [
      "M, C:  1.247728964738885 11.44118504854061\n",
      "Test score:  0.6152475968214515\n",
      "Train score:  0.5858724664291513\n",
      "cost on training data:  115.7854246878002\n"
     ]
    }
   ],
   "source": [
    "m,c=fit(X_train,Y_train)\n",
    "print(\"M, C: \",m,c)\n",
    "# test data\n",
    "Y_pred=predict(X_test,m,c)\n",
    "print(\"Test score: \",score(Y_test,Y_pred))\n",
    "# train data\n",
    "Y_train_pred=predict(X_train,m,c)\n",
    "print(\"Train score: \",score(Y_train,Y_train_pred))\n",
    "print(\"cost on training data: \",cost(X_train,Y_train,m,c))"
   ]
  },
  {
   "cell_type": "code",
   "execution_count": null,
   "id": "a5b54a60",
   "metadata": {},
   "outputs": [],
   "source": []
  }
 ],
 "metadata": {
  "kernelspec": {
   "display_name": "Python 3 (ipykernel)",
   "language": "python",
   "name": "python3"
  },
  "language_info": {
   "codemirror_mode": {
    "name": "ipython",
    "version": 3
   },
   "file_extension": ".py",
   "mimetype": "text/x-python",
   "name": "python",
   "nbconvert_exporter": "python",
   "pygments_lexer": "ipython3",
   "version": "3.11.5"
  }
 },
 "nbformat": 4,
 "nbformat_minor": 5
}
