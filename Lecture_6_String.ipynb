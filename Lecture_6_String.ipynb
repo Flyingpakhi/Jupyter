{
 "cells": [
  {
   "cell_type": "markdown",
   "id": "b8382887",
   "metadata": {},
   "source": [
    "1.Python does not support char datatype. A single char represents as a single length string.\n",
    "2.String supports indexing.\n",
    "3.String object does not support item assignment."
   ]
  },
  {
   "cell_type": "code",
   "execution_count": 1,
   "id": "1daead2d",
   "metadata": {},
   "outputs": [
    {
     "name": "stdout",
     "output_type": "stream",
     "text": [
      "abc def\n",
      "ab\n",
      "Twinkle Twinkle\n",
      "      Little star\n",
      "      How I wonder what you are!!\n"
     ]
    }
   ],
   "source": [
    "# we can represent string by single,double and triple quotes.\n",
    "a=\"abc def\"\n",
    "print(a)\n",
    "b='ab'\n",
    "print(b)\n",
    "c='''Twinkle Twinkle\n",
    "      Little star\n",
    "      How I wonder what you are!!'''\n",
    "print(c)"
   ]
  },
  {
   "cell_type": "code",
   "execution_count": 2,
   "id": "80ae419b",
   "metadata": {},
   "outputs": [
    {
     "data": {
      "text/plain": [
       "str"
      ]
     },
     "execution_count": 2,
     "metadata": {},
     "output_type": "execute_result"
    }
   ],
   "source": [
    "# A single char represents as a single length string.\n",
    "ch='a'\n",
    "type(ch)"
   ]
  },
  {
   "cell_type": "code",
   "execution_count": 6,
   "id": "c7b5d1c1",
   "metadata": {},
   "outputs": [
    {
     "name": "stdout",
     "output_type": "stream",
     "text": [
      "a\n",
      "b\n",
      "c\n",
      " \n",
      "d\n",
      "e\n",
      "f\n",
      "hi\n"
     ]
    }
   ],
   "source": [
    "# Access elements of a string through loop\n",
    "for i in a:\n",
    "    print(i)\n",
    "# String does not support assignment.It is immutable.\n",
    "# We cannot change the current string\n",
    "# a[0]='c' ->error\n",
    "# we can change variable which is right to do.\n",
    "v=\"hello\"\n",
    "v=\"hi\"\n",
    "print(v)"
   ]
  },
  {
   "cell_type": "code",
   "execution_count": 8,
   "id": "928ace99",
   "metadata": {},
   "outputs": [
    {
     "data": {
      "text/plain": [
       "\"this is ankush's penhello\""
      ]
     },
     "execution_count": 8,
     "metadata": {},
     "output_type": "execute_result"
    }
   ],
   "source": [
    "# escape sequence character\n",
    "a='this is ankush\\'s pen'\n",
    "b=\"hello\"\n",
    "# here we change the variable not a string\n",
    "a=a+b\n",
    "print(a)"
   ]
  },
  {
   "cell_type": "code",
   "execution_count": 9,
   "id": "8c9eb6f9",
   "metadata": {},
   "outputs": [
    {
     "name": "stdout",
     "output_type": "stream",
     "text": [
      "False\n"
     ]
    }
   ],
   "source": [
    "# compare two strings\n",
    "a=\"Hello\"\n",
    "b=\"hello\"\n",
    "# capital<lower-->'Z'<'a'\n",
    "print(a==b)"
   ]
  },
  {
   "cell_type": "code",
   "execution_count": 19,
   "id": "cd578e84",
   "metadata": {},
   "outputs": [
    {
     "data": {
      "text/plain": [
       "['Th', ' ', ' str']"
      ]
     },
     "execution_count": 19,
     "metadata": {},
     "output_type": "execute_result"
    }
   ],
   "source": [
    "# split function\n",
    "a=\"This is str\"\n",
    "# by default split happens on white space\n",
    "a.split()\n",
    "# we can modify split with our own convention\n",
    "a.split(\"is\")"
   ]
  },
  {
   "cell_type": "code",
   "execution_count": 20,
   "id": "c7f97412",
   "metadata": {},
   "outputs": [
    {
     "data": {
      "text/plain": [
       "'Thare are str'"
      ]
     },
     "execution_count": 20,
     "metadata": {},
     "output_type": "execute_result"
    }
   ],
   "source": [
    "# replace the oldword with new word.Does not change the original str.\n",
    "# return a new string\n",
    "# str.replace(old,new)\n",
    "a.replace(\"is\",\"are\")"
   ]
  },
  {
   "cell_type": "code",
   "execution_count": 21,
   "id": "8e70ffbd",
   "metadata": {},
   "outputs": [
    {
     "data": {
      "text/plain": [
       "-1"
      ]
     },
     "execution_count": 21,
     "metadata": {},
     "output_type": "execute_result"
    }
   ],
   "source": [
    "#find the first index or return -1.\n",
    "a.find(\"is\")\n",
    "a.find(\"else\")"
   ]
  },
  {
   "cell_type": "code",
   "execution_count": 25,
   "id": "8ee6751f",
   "metadata": {},
   "outputs": [
    {
     "name": "stdout",
     "output_type": "stream",
     "text": [
      "this is str\n",
      "This is str\n",
      "THIS IS STR\n",
      "This is str\n"
     ]
    }
   ],
   "source": [
    "# returns a new string\n",
    "print(a.lower())\n",
    "# does not change the original string\n",
    "print(a)\n",
    "# returns a new string\n",
    "print(a.upper())\n",
    "# does not change the original string\n",
    "print(a)"
   ]
  },
  {
   "cell_type": "code",
   "execution_count": 28,
   "id": "132884ce",
   "metadata": {},
   "outputs": [
    {
     "data": {
      "text/plain": [
       "True"
      ]
     },
     "execution_count": 28,
     "metadata": {},
     "output_type": "execute_result"
    }
   ],
   "source": [
    "# checks all cases are lower or not\n",
    "a=\"tHis is\"\n",
    "a.islower()\n",
    "# checks whether str is made by only alphabets.\n",
    "# here space presents so false\n",
    "a.isalpha()\n",
    "a.startswith(\"t\")"
   ]
  },
  {
   "cell_type": "code",
   "execution_count": 31,
   "id": "882cd825",
   "metadata": {},
   "outputs": [
    {
     "name": "stdout",
     "output_type": "stream",
     "text": [
      "abcd12\n"
     ]
    }
   ],
   "source": [
    "s=\"abcd\"\n",
    "# can't add a int to a str. right way to add will be s+str(12).\n",
    "# print(s+12) -->error\n",
    "print(s+str(12))"
   ]
  },
  {
   "cell_type": "code",
   "execution_count": null,
   "id": "e1f47af3",
   "metadata": {},
   "outputs": [],
   "source": []
  }
 ],
 "metadata": {
  "kernelspec": {
   "display_name": "Python 3 (ipykernel)",
   "language": "python",
   "name": "python3"
  },
  "language_info": {
   "codemirror_mode": {
    "name": "ipython",
    "version": 3
   },
   "file_extension": ".py",
   "mimetype": "text/x-python",
   "name": "python",
   "nbconvert_exporter": "python",
   "pygments_lexer": "ipython3",
   "version": "3.11.5"
  }
 },
 "nbformat": 4,
 "nbformat_minor": 5
}
